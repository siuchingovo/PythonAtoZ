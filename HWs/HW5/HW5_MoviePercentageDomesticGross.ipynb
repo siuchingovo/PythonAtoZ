{
 "cells": [
  {
   "cell_type": "code",
   "execution_count": 3,
   "id": "864bb0cd",
   "metadata": {},
   "outputs": [],
   "source": [
    "import pandas as pd\n",
    "import numpy as np\n",
    "import matplotlib.pyplot as plt\n",
    "import seaborn as sns\n",
    "%matplotlib inline\n",
    "# plt.rcParams['figure.figsize']= 8,4\n",
    "import warnings\n",
    "warnings.filterwarnings('ignore')\n",
    "\n",
    "movies = pd.read_csv('/Users/silver/Desktop/PythonLearning/PythonAtoZ/HWs/HW5/HomeworkDataset.csv', encoding=\"latin1\")"
   ]
  },
  {
   "cell_type": "markdown",
   "id": "f3430e17",
   "metadata": {},
   "source": [
    "- filter targeted companies & genre"
   ]
  }
 ],
 "metadata": {
  "kernelspec": {
   "display_name": "Python 3 (ipykernel)",
   "language": "python",
   "name": "python3"
  },
  "language_info": {
   "codemirror_mode": {
    "name": "ipython",
    "version": 3
   },
   "file_extension": ".py",
   "mimetype": "text/x-python",
   "name": "python",
   "nbconvert_exporter": "python",
   "pygments_lexer": "ipython3",
   "version": "3.11.3"
  }
 },
 "nbformat": 4,
 "nbformat_minor": 5
}
