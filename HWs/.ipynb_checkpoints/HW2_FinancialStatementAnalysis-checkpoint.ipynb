{
 "cells": [
  {
   "cell_type": "code",
   "execution_count": 49,
   "id": "f0759754",
   "metadata": {},
   "outputs": [
    {
     "data": {
      "text/html": [
       "<img src=\"https://cdn.discordapp.com/attachments/1128628747206131734/1132595968756416562/image.png\" width=\"400\"/>"
      ],
      "text/plain": [
       "<IPython.core.display.Image object>"
      ]
     },
     "metadata": {},
     "output_type": "display_data"
    },
    {
     "data": {
      "text/html": [
       "<img src=\"https://cdn.discordapp.com/attachments/1128628747206131734/1132599406722568255/image.png\" width=\"400\"/>"
      ],
      "text/plain": [
       "<IPython.core.display.Image object>"
      ]
     },
     "metadata": {},
     "output_type": "display_data"
    }
   ],
   "source": [
    "from IPython.display import Image\n",
    "from IPython.display import display\n",
    "a = Image(url='https://cdn.discordapp.com/attachments/1128628747206131734/1132595968756416562/image.png', width = 400)\n",
    "b = Image(url='https://cdn.discordapp.com/attachments/1128628747206131734/1132599406722568255/image.png', width = 400)\n",
    "display(a, b)"
   ]
  },
  {
   "cell_type": "markdown",
   "id": "046486b1",
   "metadata": {},
   "source": [
    "### profit(PBT) = revenue (sales) - expense\n",
    "### PAT = profit before tax - (tax rate on PBT)\n",
    "### profit margin = (pbt - tax rate) / revenue\n",
    "\n",
    "### good months =  (PAT > mean)\n",
    "### bad months = (PAT < mean)\n",
    "### best month = max(PAT)\n",
    "### worst month = min(PAT)"
   ]
  },
  {
   "cell_type": "code",
   "execution_count": 2,
   "id": "61ca25d6",
   "metadata": {},
   "outputs": [],
   "source": [
    "#Data \n",
    "revenue = [14574.49, 7606.46, 8611.41, 9175.41, 8058.65, 8105.44, 11496.28, 9766.09, 10305.32, 14379.96, 10713.97, 15433.50]\n",
    "expenses = [12051.82, 5695.07, 12319.20, 12089.72, 8658.57, 840.20, 3285.73, 5821.12, 6976.93, 16618.61, 10054.37, 3803.96]"
   ]
  },
  {
   "cell_type": "code",
   "execution_count": 64,
   "id": "6f91d4e7",
   "metadata": {},
   "outputs": [
    {
     "name": "stdout",
     "output_type": "stream",
     "text": [
      "[2523, 1911, -3708, -2914, -600, 7265, 8211, 3945, 3328, -2239, 660, 11630]\n",
      "[757, 573, -1112, -874, -180, 2180, 2463, 1184, 998, -672, 198, 3489]\n",
      "['0%', '0%', '-0%', '-0%', '-0%', '0%', '0%', '0%', '0%', '-0%', '0%', '0%']\n",
      "1 6 7 8 9 12 \n",
      "2 3 4 5 10 11 \n",
      "The best month is 12\n",
      "The worst month is 3\n"
     ]
    }
   ],
   "source": [
    "import numpy as np\n",
    "\n",
    "profit_list = []\n",
    "pat_list = []\n",
    "profitMargin_list = []\n",
    "\n",
    "#Profit for each month (PBT)\n",
    "for i in range (12):\n",
    "    Profit = revenue[i] - expenses[i]\n",
    "    profit_list.append(round(Profit))\n",
    "\n",
    "print(profit_list)\n",
    "    \n",
    "#Profit After Tax (PAT)\n",
    "for j in profit_list:  #for loop in profit_list, depends on the length\n",
    "    pat = j - (j*(0.7))\n",
    "    pat_list.append(round(pat))\n",
    "\n",
    "print(pat_list)\n",
    "    \n",
    "#Profit margin\n",
    "for k in range(len(pat_list)):\n",
    "    profitMargin_list.append('%.0f%%' %((pat_list[k]/revenue[k])))\n",
    "    \n",
    "print(profitMargin_list)    \n",
    "    \n",
    "#Good months\n",
    "yearmean = np.array(pat_list)\n",
    "for m in range(len(pat_list)):\n",
    "    if pat_list[m] > yearmean.mean():\n",
    "        print(m+1, end=\" \")\n",
    "print()\n",
    "\n",
    "#Bad months\n",
    "for m in range(len(pat_list)):\n",
    "    if pat_list[m] < yearmean.mean():\n",
    "        print(m+1, end=\" \")\n",
    "print()\n",
    "\n",
    "#the best month\n",
    "print(\"The best month is: \" + str(pat_list.index(max(pat_list)) + 1))\n",
    "\n",
    "#the worst month\n",
    "print(\"The worst month is: \" + str(pat_list.index(min(pat_list)) + 1))"
   ]
  },
  {
   "cell_type": "code",
   "execution_count": null,
   "id": "02046b26",
   "metadata": {},
   "outputs": [],
   "source": []
  }
 ],
 "metadata": {
  "kernelspec": {
   "display_name": "Python 3 (ipykernel)",
   "language": "python",
   "name": "python3"
  },
  "language_info": {
   "codemirror_mode": {
    "name": "ipython",
    "version": 3
   },
   "file_extension": ".py",
   "mimetype": "text/x-python",
   "name": "python",
   "nbconvert_exporter": "python",
   "pygments_lexer": "ipython3",
   "version": "3.11.3"
  }
 },
 "nbformat": 4,
 "nbformat_minor": 5
}
