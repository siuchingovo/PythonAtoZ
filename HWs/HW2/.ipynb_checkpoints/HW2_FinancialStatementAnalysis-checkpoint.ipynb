{
 "cells": [
  {
   "cell_type": "code",
   "execution_count": 2,
   "id": "2a86c93e",
   "metadata": {},
   "outputs": [
    {
     "data": {
      "text/html": [
       "<img src=\"https://cdn.discordapp.com/attachments/1128628747206131734/1132595968756416562/image.png\" width=\"400\"/>"
      ],
      "text/plain": [
       "<IPython.core.display.Image object>"
      ]
     },
     "metadata": {},
     "output_type": "display_data"
    },
    {
     "data": {
      "text/html": [
       "<img src=\"https://cdn.discordapp.com/attachments/1128628747206131734/1132599406722568255/image.png\" width=\"400\"/>"
      ],
      "text/plain": [
       "<IPython.core.display.Image object>"
      ]
     },
     "metadata": {},
     "output_type": "display_data"
    }
   ],
   "source": [
    "from IPython.display import Image\n",
    "from IPython.display import display\n",
    "a = Image(url='https://cdn.discordapp.com/attachments/1128628747206131734/1132595968756416562/image.png', width = 400)\n",
    "b = Image(url='https://cdn.discordapp.com/attachments/1128628747206131734/1132599406722568255/image.png', width = 400)\n",
    "display(a, b)"
   ]
  },
  {
   "cell_type": "markdown",
   "id": "7772fa09",
   "metadata": {},
   "source": [
    "### profit(PBT) = revenue (sales) - expense\n",
    "### PAT = profit before tax - (tax rate on PBT)\n",
    "### profit margin = (pbt - tax rate) / revenue\n",
    "\n",
    "### good months =  (PAT > mean)\n",
    "### bad months = (PAT < mean)\n",
    "### best month = max(PAT)\n",
    "### worst month = min(PAT)"
   ]
  },
  {
   "cell_type": "code",
   "execution_count": 4,
   "id": "804e9a9d",
   "metadata": {},
   "outputs": [],
   "source": [
    "#Data \n",
    "revenue = [14574.49, 7606.46, 8611.41, 9175.41, 8058.65, 8105.44, 11496.28, 9766.09, 10305.32, 14379.96, 10713.97, 15433.50]\n",
    "expenses = [12051.82, 5695.07, 12319.20, 12089.72, 8658.57, 840.20, 3285.73, 5821.12, 6976.93, 16618.61, 10054.37, 3803.96]"
   ]
  },
  {
   "cell_type": "code",
   "execution_count": 5,
   "id": "cd8c317e",
   "metadata": {
    "scrolled": false
   },
   "outputs": [
    {
     "name": "stdout",
     "output_type": "stream",
     "text": [
      "[2522.67, 1911.39, -3707.79, -2914.31, -599.92, 7265.24, 8210.55, 3944.97, 3328.39, -2238.65, 659.6, 11629.54]\n",
      "\n",
      "[756.8, 573.42, -1112.34, -874.29, -179.98, 2179.57, 2463.16, 1183.49, 998.52, -671.6, 197.88, 3488.86]\n",
      "\n",
      "['5%', '8%', '-13%', '-10%', '-2%', '27%', '21%', '12%', '10%', '-5%', '2%', '23%']\n",
      "\n",
      "1 6 7 8 9 12 \n",
      "\n",
      "2 3 4 5 10 11 \n",
      "\n",
      "The best month is: 12\n",
      "\n",
      "The worst month is: 3\n",
      "\n",
      "Revenue: ['$14.57k', '$7.61k', '$8.61k', '$9.18k', '$8.06k', '$8.11k', '$11.5k', '$9.77k', '$10.31k', '$14.38k', '$10.71k', '$15.43k']\n",
      "Expenses: ['$12.05k', '$5.7k', '$12.32k', '$12.09k', '$8.66k', '$0.84k', '$3.29k', '$5.82k', '$6.98k', '$16.62k', '$10.05k', '$3.8k']\n",
      "PBT: ['$2.52k', '$1.91k', '$-3.71k', '$-2.91k', '$-0.6k', '$7.27k', '$8.21k', '$3.94k', '$3.33k', '$-2.24k', '$0.66k', '$11.63k']\n",
      "PAT: ['$0.76k', '$0.57k', '$-1.11k', '$-0.87k', '$-0.18k', '$2.18k', '$2.46k', '$1.18k', '$1.0k', '$-0.67k', '$0.2k', '$3.49k']\n"
     ]
    }
   ],
   "source": [
    "import numpy as np\n",
    "\n",
    "profit_list = []\n",
    "pat_list = []\n",
    "profitMargin_list = []\n",
    "\n",
    "#Profit for each month (PBT): (revenue - expensus)\n",
    "for i in range (12):\n",
    "    Profit = revenue[i] - expenses[i]\n",
    "    profit_list.append(round(Profit, 2))\n",
    "\n",
    "print(profit_list)\n",
    "print()\n",
    "    \n",
    "#Profit After Tax (PAT): (profit x 30%)\n",
    "for j in profit_list:  #for loop in profit_list, depends on the length\n",
    "    pat = (j*(0.3))\n",
    "    pat_list.append(round(pat, 2))\n",
    "\n",
    "print(pat_list)\n",
    "print()\n",
    "    \n",
    "#Profit margin\n",
    "for k in range(len(pat_list)):\n",
    "    profitMargin_list.append('%.f%%' %((pat_list[k]/revenue[k])*100))\n",
    "    \n",
    "print(profitMargin_list)    \n",
    "print()\n",
    "\n",
    "#Good months\n",
    "yearmean = np.array(pat_list)\n",
    "for m in range(len(pat_list)):\n",
    "    if pat_list[m] > yearmean.mean():\n",
    "        print(m+1, end=\" \")\n",
    "print()\n",
    "print()\n",
    "#Bad months\n",
    "for m in range(len(pat_list)):\n",
    "    if pat_list[m] < yearmean.mean():\n",
    "        print(m+1, end=\" \")\n",
    "print()\n",
    "print()\n",
    "#the best month\n",
    "print(\"The best month is: \" + str(pat_list.index(max(pat_list)) + 1))\n",
    "print()\n",
    "\n",
    "#the worst month\n",
    "print(\"The worst month is: \" + str(pat_list.index(min(pat_list)) + 1))\n",
    "print()\n",
    "\n",
    "#Convert all dollar value into unit of 1000\n",
    "revenue_1000 = ['${}k'.format(round(i/1000, 2)) for i in revenue]\n",
    "print('Revenue: {}'.format(revenue_1000))\n",
    "\n",
    "expenses_1000 = ['${}k'.format(round(i/1000, 2)) for i in expenses]\n",
    "print('Expenses: {}'.format(expenses_1000))\n",
    "\n",
    "profit_1000 = ['${}k'.format(round(i/1000, 2)) for i in profit_list]\n",
    "print('PBT: {}'.format(profit_1000))\n",
    "\n",
    "pat_1000 = ['${}k'.format(round(i/1000, 2)) for i in pat_list]\n",
    "print('PAT: {}'.format(pat_1000))"
   ]
  },
  {
   "cell_type": "code",
   "execution_count": null,
   "id": "313bdf45",
   "metadata": {},
   "outputs": [],
   "source": []
  }
 ],
 "metadata": {
  "kernelspec": {
   "display_name": "Python 3 (ipykernel)",
   "language": "python",
   "name": "python3"
  },
  "language_info": {
   "codemirror_mode": {
    "name": "ipython",
    "version": 3
   },
   "file_extension": ".py",
   "mimetype": "text/x-python",
   "name": "python",
   "nbconvert_exporter": "python",
   "pygments_lexer": "ipython3",
   "version": "3.11.3"
  }
 },
 "nbformat": 4,
 "nbformat_minor": 5
}
