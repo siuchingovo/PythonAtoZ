{
 "cells": [
  {
   "cell_type": "code",
   "execution_count": 4,
   "id": "4291c839",
   "metadata": {},
   "outputs": [],
   "source": [
    "import scrapy #conda install scrapy before you use this package from GitHub"
   ]
  },
  {
   "cell_type": "code",
   "execution_count": 6,
   "id": "4ee4385f",
   "metadata": {},
   "outputs": [],
   "source": [
    "from scrapy.crawler import CrawlerProcess"
   ]
  },
  {
   "cell_type": "code",
   "execution_count": 8,
   "id": "04b472ba",
   "metadata": {},
   "outputs": [],
   "source": [
    "import numpy #Already installed and it's from Anaconda"
   ]
  }
 ],
 "metadata": {
  "kernelspec": {
   "display_name": "Python 3 (ipykernel)",
   "language": "python",
   "name": "python3"
  },
  "language_info": {
   "codemirror_mode": {
    "name": "ipython",
    "version": 3
   },
   "file_extension": ".py",
   "mimetype": "text/x-python",
   "name": "python",
   "nbconvert_exporter": "python",
   "pygments_lexer": "ipython3",
   "version": "3.11.3"
  }
 },
 "nbformat": 4,
 "nbformat_minor": 5
}
