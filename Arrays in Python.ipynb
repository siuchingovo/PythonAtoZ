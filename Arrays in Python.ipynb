{
 "cells": [
  {
   "cell_type": "code",
   "execution_count": 3,
   "id": "7c906677",
   "metadata": {},
   "outputs": [],
   "source": [
    "list_1 = [123, 213214, 546, 24, -123]"
   ]
  },
  {
   "cell_type": "code",
   "execution_count": 4,
   "id": "2866f1ff",
   "metadata": {},
   "outputs": [
    {
     "data": {
      "text/plain": [
       "[123, 213214, 546, 24, -123]"
      ]
     },
     "execution_count": 4,
     "metadata": {},
     "output_type": "execute_result"
    }
   ],
   "source": [
    "list_1"
   ]
  },
  {
   "cell_type": "code",
   "execution_count": 5,
   "id": "40a27a20",
   "metadata": {},
   "outputs": [],
   "source": [
    "import numpy as np"
   ]
  },
  {
   "cell_type": "code",
   "execution_count": 6,
   "id": "2fa35762",
   "metadata": {},
   "outputs": [
    {
     "data": {
      "text/plain": [
       "array([   123, 213214,    546,     24,   -123])"
      ]
     },
     "execution_count": 6,
     "metadata": {},
     "output_type": "execute_result"
    }
   ],
   "source": [
    "np.array(list_1)  #convert list into array"
   ]
  },
  {
   "cell_type": "markdown",
   "id": "f997ef38",
   "metadata": {},
   "source": [
    "array:\n",
    "- One data type only\n",
    "\n",
    "list:\n",
    "- could contain different data type, such as int, bool, string etc.\n"
   ]
  },
  {
   "cell_type": "code",
   "execution_count": 7,
   "id": "1f06cdd9",
   "metadata": {},
   "outputs": [],
   "source": [
    "b = np.array([12,455, 63.3, True, \"abc\"])"
   ]
  },
  {
   "cell_type": "code",
   "execution_count": 8,
   "id": "b1de8f5e",
   "metadata": {},
   "outputs": [
    {
     "data": {
      "text/plain": [
       "array(['12', '455', '63.3', 'True', 'abc'], dtype='<U32')"
      ]
     },
     "execution_count": 8,
     "metadata": {},
     "output_type": "execute_result"
    }
   ],
   "source": [
    "b"
   ]
  },
  {
   "cell_type": "code",
   "execution_count": 9,
   "id": "4d7a7b92",
   "metadata": {},
   "outputs": [
    {
     "name": "stdout",
     "output_type": "stream",
     "text": [
      "['12' '455' '63.3' 'True' 'abc']\n"
     ]
    }
   ],
   "source": [
    "print(b) # convert to string during the convertion from list to array"
   ]
  },
  {
   "cell_type": "code",
   "execution_count": 10,
   "id": "00224bbb",
   "metadata": {},
   "outputs": [
    {
     "data": {
      "text/plain": [
       "-123"
      ]
     },
     "execution_count": 10,
     "metadata": {},
     "output_type": "execute_result"
    }
   ],
   "source": [
    "list_1.pop()"
   ]
  },
  {
   "cell_type": "code",
   "execution_count": 11,
   "id": "871c89bb",
   "metadata": {},
   "outputs": [
    {
     "data": {
      "text/plain": [
       "[123, 213214, 546, 24]"
      ]
     },
     "execution_count": 11,
     "metadata": {},
     "output_type": "execute_result"
    }
   ],
   "source": [
    "list_1"
   ]
  },
  {
   "cell_type": "code",
   "execution_count": 12,
   "id": "855b2c29",
   "metadata": {},
   "outputs": [],
   "source": [
    "a = np.array(list_1)"
   ]
  },
  {
   "cell_type": "code",
   "execution_count": 13,
   "id": "c1adc419",
   "metadata": {},
   "outputs": [
    {
     "data": {
      "text/plain": [
       "array([   123, 213214,    546,     24])"
      ]
     },
     "execution_count": 13,
     "metadata": {},
     "output_type": "execute_result"
    }
   ],
   "source": [
    "a"
   ]
  },
  {
   "cell_type": "code",
   "execution_count": 14,
   "id": "d0bae958",
   "metadata": {},
   "outputs": [
    {
     "data": {
      "text/plain": [
       "53476.75"
      ]
     },
     "execution_count": 14,
     "metadata": {},
     "output_type": "execute_result"
    }
   ],
   "source": [
    "a.mean()"
   ]
  },
  {
   "cell_type": "code",
   "execution_count": 15,
   "id": "a0e7157c",
   "metadata": {},
   "outputs": [
    {
     "data": {
      "text/plain": [
       "[213214, 546, 24]"
      ]
     },
     "execution_count": 15,
     "metadata": {},
     "output_type": "execute_result"
    }
   ],
   "source": [
    "list_1[1:]"
   ]
  },
  {
   "cell_type": "markdown",
   "id": "65f2f691",
   "metadata": {},
   "source": [
    "---"
   ]
  },
  {
   "cell_type": "markdown",
   "id": "06f36d95",
   "metadata": {},
   "source": [
    "#### listname[start:end:steps]"
   ]
  },
  {
   "cell_type": "code",
   "execution_count": 16,
   "id": "3af25d7a",
   "metadata": {},
   "outputs": [],
   "source": [
    "b = a[2:4]"
   ]
  },
  {
   "cell_type": "code",
   "execution_count": 17,
   "id": "e893b43d",
   "metadata": {},
   "outputs": [
    {
     "data": {
      "text/plain": [
       "array([546,  24])"
      ]
     },
     "execution_count": 17,
     "metadata": {},
     "output_type": "execute_result"
    }
   ],
   "source": [
    "b"
   ]
  },
  {
   "cell_type": "code",
   "execution_count": 18,
   "id": "7bab6036",
   "metadata": {},
   "outputs": [],
   "source": [
    "b[:] = 111"
   ]
  },
  {
   "cell_type": "code",
   "execution_count": 19,
   "id": "e133ace5",
   "metadata": {},
   "outputs": [
    {
     "data": {
      "text/plain": [
       "111"
      ]
     },
     "execution_count": 19,
     "metadata": {},
     "output_type": "execute_result"
    }
   ],
   "source": [
    "b[0]"
   ]
  },
  {
   "cell_type": "code",
   "execution_count": 20,
   "id": "a83f682e",
   "metadata": {},
   "outputs": [
    {
     "data": {
      "text/plain": [
       "array([111, 111])"
      ]
     },
     "execution_count": 20,
     "metadata": {},
     "output_type": "execute_result"
    }
   ],
   "source": [
    "b"
   ]
  },
  {
   "cell_type": "code",
   "execution_count": 21,
   "id": "1c3b53cd",
   "metadata": {},
   "outputs": [
    {
     "data": {
      "text/plain": [
       "array([   123, 213214,    111,    111])"
      ]
     },
     "execution_count": 21,
     "metadata": {},
     "output_type": "execute_result"
    }
   ],
   "source": [
    "a"
   ]
  },
  {
   "cell_type": "markdown",
   "id": "033b80b6",
   "metadata": {},
   "source": [
    "- When actually changing the value in list b, it will change the orginal value in list a\n",
    "- If you wanna change the value in a copy list, you should use list.copy()\n",
    "\n",
    "## Critical Difference Between Slicing lists & arrays\n",
    "1. Slicing a list: **create a copy**of that list\n",
    "2. Slicing an array: **create a view value**of that array(not a copy)"
   ]
  },
  {
   "cell_type": "code",
   "execution_count": 22,
   "id": "45f5944e",
   "metadata": {},
   "outputs": [],
   "source": [
    "c = a.copy()"
   ]
  },
  {
   "cell_type": "code",
   "execution_count": 23,
   "id": "74dca749",
   "metadata": {},
   "outputs": [
    {
     "data": {
      "text/plain": [
       "array([   123, 213214,    111,    111])"
      ]
     },
     "execution_count": 23,
     "metadata": {},
     "output_type": "execute_result"
    }
   ],
   "source": [
    "c"
   ]
  },
  {
   "cell_type": "code",
   "execution_count": 24,
   "id": "b93238d7",
   "metadata": {},
   "outputs": [],
   "source": [
    "c[0] = 0"
   ]
  },
  {
   "cell_type": "code",
   "execution_count": 25,
   "id": "88087195",
   "metadata": {},
   "outputs": [
    {
     "data": {
      "text/plain": [
       "array([     0, 213214,    111,    111])"
      ]
     },
     "execution_count": 25,
     "metadata": {},
     "output_type": "execute_result"
    }
   ],
   "source": [
    "c"
   ]
  },
  {
   "cell_type": "code",
   "execution_count": 26,
   "id": "f9e0e375",
   "metadata": {},
   "outputs": [
    {
     "data": {
      "text/plain": [
       "array([   123, 213214,    111,    111])"
      ]
     },
     "execution_count": 26,
     "metadata": {},
     "output_type": "execute_result"
    }
   ],
   "source": [
    "a"
   ]
  }
 ],
 "metadata": {
  "kernelspec": {
   "display_name": "Python 3 (ipykernel)",
   "language": "python",
   "name": "python3"
  },
  "language_info": {
   "codemirror_mode": {
    "name": "ipython",
    "version": 3
   },
   "file_extension": ".py",
   "mimetype": "text/x-python",
   "name": "python",
   "nbconvert_exporter": "python",
   "pygments_lexer": "ipython3",
   "version": "3.11.3"
  }
 },
 "nbformat": 4,
 "nbformat_minor": 5
}
